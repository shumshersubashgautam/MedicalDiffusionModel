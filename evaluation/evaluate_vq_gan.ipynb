{
 "cells": [
  {
   "cell_type": "code",
   "execution_count": 2,
   "metadata": {},
   "outputs": [
    {
     "name": "stdout",
     "output_type": "stream",
     "text": [
      "env: CUDA_VISIBLE_DEVICES=0\n"
     ]
    }
   ],
   "source": [
    "import torch\n",
    "import os\n",
    "import sys\n",
    "os.environ[\"CUDA_VISIBLE_DEVICES\"]=\"0\"\n",
    "%env CUDA_VISIBLE_DEVICES=0\n",
    "torch.cuda.set_device(0)\n",
    "device = 'cuda:0'\n",
    "sys.path.append('../')\n",
    "from vq_gan_3d.model.vqgan import VQGAN\n",
    "from train.get_dataset import get_dataset\n",
    "import matplotlib.pyplot as plt\n",
    "import SimpleITK as sitk\n",
    "from hydra import initialize, initialize_config_module, initialize_config_dir, compose"
   ]
  },
  {
   "cell_type": "code",
   "execution_count": 19,
   "metadata": {},
   "outputs": [
    {
     "name": "stderr",
     "output_type": "stream",
     "text": [
      "/data/home/firas/anaconda3/envs/vq_gan_3d/lib/python3.8/site-packages/torchvision/models/_utils.py:208: UserWarning: The parameter 'pretrained' is deprecated since 0.13 and will be removed in 0.15, please use 'weights' instead.\n",
      "  warnings.warn(\n",
      "/data/home/firas/anaconda3/envs/vq_gan_3d/lib/python3.8/site-packages/torchvision/models/_utils.py:223: UserWarning: Arguments other than a weight enum or `None` for 'weights' are deprecated since 0.13 and will be removed in 0.15. The current behavior is equivalent to passing `weights=VGG16_Weights.IMAGENET1K_V1`. You can also use `weights=VGG16_Weights.DEFAULT` to get the most up-to-date weights.\n",
      "  warnings.warn(msg)\n"
     ]
    },
    {
     "name": "stdout",
     "output_type": "stream",
     "text": [
      "loaded pretrained LPIPS loss from /data/home/firas/Desktop/work/other_groups/vq_gan_3d/model/cache/vgg.pth\n"
     ]
    },
    {
     "data": {
      "text/plain": [
       "VQGAN(\n",
       "  (encoder): Encoder(\n",
       "    (conv_blocks): ModuleList(\n",
       "      (0): Module(\n",
       "        (down): SamePadConv3d(\n",
       "          (conv): Conv3d(16, 32, kernel_size=(4, 4, 4), stride=(2, 2, 2))\n",
       "        )\n",
       "        (res): ResBlock(\n",
       "          (norm1): GroupNorm(32, 32, eps=1e-06, affine=True)\n",
       "          (conv1): SamePadConv3d(\n",
       "            (conv): Conv3d(32, 32, kernel_size=(3, 3, 3), stride=(1, 1, 1))\n",
       "          )\n",
       "          (dropout): Dropout(p=0.0, inplace=False)\n",
       "          (norm2): GroupNorm(32, 32, eps=1e-06, affine=True)\n",
       "          (conv2): SamePadConv3d(\n",
       "            (conv): Conv3d(32, 32, kernel_size=(3, 3, 3), stride=(1, 1, 1))\n",
       "          )\n",
       "        )\n",
       "      )\n",
       "    )\n",
       "    (conv_first): SamePadConv3d(\n",
       "      (conv): Conv3d(1, 16, kernel_size=(3, 3, 3), stride=(1, 1, 1))\n",
       "    )\n",
       "    (final_block): Sequential(\n",
       "      (0): GroupNorm(32, 32, eps=1e-06, affine=True)\n",
       "      (1): SiLU()\n",
       "    )\n",
       "  )\n",
       "  (decoder): Decoder(\n",
       "    (final_block): Sequential(\n",
       "      (0): GroupNorm(32, 32, eps=1e-06, affine=True)\n",
       "      (1): SiLU()\n",
       "    )\n",
       "    (conv_blocks): ModuleList(\n",
       "      (0): Module(\n",
       "        (up): SamePadConvTranspose3d(\n",
       "          (convt): ConvTranspose3d(32, 32, kernel_size=(4, 4, 4), stride=(2, 2, 2), padding=(3, 3, 3))\n",
       "        )\n",
       "        (res1): ResBlock(\n",
       "          (norm1): GroupNorm(32, 32, eps=1e-06, affine=True)\n",
       "          (conv1): SamePadConv3d(\n",
       "            (conv): Conv3d(32, 32, kernel_size=(3, 3, 3), stride=(1, 1, 1))\n",
       "          )\n",
       "          (dropout): Dropout(p=0.0, inplace=False)\n",
       "          (norm2): GroupNorm(32, 32, eps=1e-06, affine=True)\n",
       "          (conv2): SamePadConv3d(\n",
       "            (conv): Conv3d(32, 32, kernel_size=(3, 3, 3), stride=(1, 1, 1))\n",
       "          )\n",
       "        )\n",
       "        (res2): ResBlock(\n",
       "          (norm1): GroupNorm(32, 32, eps=1e-06, affine=True)\n",
       "          (conv1): SamePadConv3d(\n",
       "            (conv): Conv3d(32, 32, kernel_size=(3, 3, 3), stride=(1, 1, 1))\n",
       "          )\n",
       "          (dropout): Dropout(p=0.0, inplace=False)\n",
       "          (norm2): GroupNorm(32, 32, eps=1e-06, affine=True)\n",
       "          (conv2): SamePadConv3d(\n",
       "            (conv): Conv3d(32, 32, kernel_size=(3, 3, 3), stride=(1, 1, 1))\n",
       "          )\n",
       "        )\n",
       "      )\n",
       "    )\n",
       "    (conv_last): SamePadConv3d(\n",
       "      (conv): Conv3d(32, 1, kernel_size=(3, 3, 3), stride=(1, 1, 1))\n",
       "    )\n",
       "  )\n",
       "  (pre_vq_conv): SamePadConv3d(\n",
       "    (conv): Conv3d(32, 8, kernel_size=(1, 1, 1), stride=(1, 1, 1))\n",
       "  )\n",
       "  (post_vq_conv): SamePadConv3d(\n",
       "    (conv): Conv3d(8, 32, kernel_size=(1, 1, 1), stride=(1, 1, 1))\n",
       "  )\n",
       "  (codebook): Codebook()\n",
       "  (image_discriminator): NLayerDiscriminator(\n",
       "    (model0): Sequential(\n",
       "      (0): Conv2d(1, 64, kernel_size=(4, 4), stride=(2, 2), padding=(2, 2))\n",
       "      (1): LeakyReLU(negative_slope=0.2, inplace=True)\n",
       "    )\n",
       "    (model1): Sequential(\n",
       "      (0): Conv2d(64, 128, kernel_size=(4, 4), stride=(2, 2), padding=(2, 2))\n",
       "      (1): BatchNorm2d(128, eps=1e-05, momentum=0.1, affine=True, track_running_stats=True)\n",
       "      (2): LeakyReLU(negative_slope=0.2, inplace=True)\n",
       "    )\n",
       "    (model2): Sequential(\n",
       "      (0): Conv2d(128, 256, kernel_size=(4, 4), stride=(2, 2), padding=(2, 2))\n",
       "      (1): BatchNorm2d(256, eps=1e-05, momentum=0.1, affine=True, track_running_stats=True)\n",
       "      (2): LeakyReLU(negative_slope=0.2, inplace=True)\n",
       "    )\n",
       "    (model3): Sequential(\n",
       "      (0): Conv2d(256, 512, kernel_size=(4, 4), stride=(1, 1), padding=(2, 2))\n",
       "      (1): BatchNorm2d(512, eps=1e-05, momentum=0.1, affine=True, track_running_stats=True)\n",
       "      (2): LeakyReLU(negative_slope=0.2, inplace=True)\n",
       "    )\n",
       "    (model4): Sequential(\n",
       "      (0): Conv2d(512, 1, kernel_size=(4, 4), stride=(1, 1), padding=(2, 2))\n",
       "    )\n",
       "  )\n",
       "  (video_discriminator): NLayerDiscriminator3D(\n",
       "    (model0): Sequential(\n",
       "      (0): Conv3d(1, 64, kernel_size=(4, 4, 4), stride=(2, 2, 2), padding=(2, 2, 2))\n",
       "      (1): LeakyReLU(negative_slope=0.2, inplace=True)\n",
       "    )\n",
       "    (model1): Sequential(\n",
       "      (0): Conv3d(64, 128, kernel_size=(4, 4, 4), stride=(2, 2, 2), padding=(2, 2, 2))\n",
       "      (1): BatchNorm3d(128, eps=1e-05, momentum=0.1, affine=True, track_running_stats=True)\n",
       "      (2): LeakyReLU(negative_slope=0.2, inplace=True)\n",
       "    )\n",
       "    (model2): Sequential(\n",
       "      (0): Conv3d(128, 256, kernel_size=(4, 4, 4), stride=(2, 2, 2), padding=(2, 2, 2))\n",
       "      (1): BatchNorm3d(256, eps=1e-05, momentum=0.1, affine=True, track_running_stats=True)\n",
       "      (2): LeakyReLU(negative_slope=0.2, inplace=True)\n",
       "    )\n",
       "    (model3): Sequential(\n",
       "      (0): Conv3d(256, 512, kernel_size=(4, 4, 4), stride=(1, 1, 1), padding=(2, 2, 2))\n",
       "      (1): BatchNorm3d(512, eps=1e-05, momentum=0.1, affine=True, track_running_stats=True)\n",
       "      (2): LeakyReLU(negative_slope=0.2, inplace=True)\n",
       "    )\n",
       "    (model4): Sequential(\n",
       "      (0): Conv3d(512, 1, kernel_size=(4, 4, 4), stride=(1, 1, 1), padding=(2, 2, 2))\n",
       "    )\n",
       "  )\n",
       "  (perceptual_model): LPIPS(\n",
       "    (scaling_layer): ScalingLayer()\n",
       "    (net): vgg16(\n",
       "      (slice1): Sequential(\n",
       "        (0): Conv2d(3, 64, kernel_size=(3, 3), stride=(1, 1), padding=(1, 1))\n",
       "        (1): ReLU(inplace=True)\n",
       "        (2): Conv2d(64, 64, kernel_size=(3, 3), stride=(1, 1), padding=(1, 1))\n",
       "        (3): ReLU(inplace=True)\n",
       "      )\n",
       "      (slice2): Sequential(\n",
       "        (4): MaxPool2d(kernel_size=2, stride=2, padding=0, dilation=1, ceil_mode=False)\n",
       "        (5): Conv2d(64, 128, kernel_size=(3, 3), stride=(1, 1), padding=(1, 1))\n",
       "        (6): ReLU(inplace=True)\n",
       "        (7): Conv2d(128, 128, kernel_size=(3, 3), stride=(1, 1), padding=(1, 1))\n",
       "        (8): ReLU(inplace=True)\n",
       "      )\n",
       "      (slice3): Sequential(\n",
       "        (9): MaxPool2d(kernel_size=2, stride=2, padding=0, dilation=1, ceil_mode=False)\n",
       "        (10): Conv2d(128, 256, kernel_size=(3, 3), stride=(1, 1), padding=(1, 1))\n",
       "        (11): ReLU(inplace=True)\n",
       "        (12): Conv2d(256, 256, kernel_size=(3, 3), stride=(1, 1), padding=(1, 1))\n",
       "        (13): ReLU(inplace=True)\n",
       "        (14): Conv2d(256, 256, kernel_size=(3, 3), stride=(1, 1), padding=(1, 1))\n",
       "        (15): ReLU(inplace=True)\n",
       "      )\n",
       "      (slice4): Sequential(\n",
       "        (16): MaxPool2d(kernel_size=2, stride=2, padding=0, dilation=1, ceil_mode=False)\n",
       "        (17): Conv2d(256, 512, kernel_size=(3, 3), stride=(1, 1), padding=(1, 1))\n",
       "        (18): ReLU(inplace=True)\n",
       "        (19): Conv2d(512, 512, kernel_size=(3, 3), stride=(1, 1), padding=(1, 1))\n",
       "        (20): ReLU(inplace=True)\n",
       "        (21): Conv2d(512, 512, kernel_size=(3, 3), stride=(1, 1), padding=(1, 1))\n",
       "        (22): ReLU(inplace=True)\n",
       "      )\n",
       "      (slice5): Sequential(\n",
       "        (23): MaxPool2d(kernel_size=2, stride=2, padding=0, dilation=1, ceil_mode=False)\n",
       "        (24): Conv2d(512, 512, kernel_size=(3, 3), stride=(1, 1), padding=(1, 1))\n",
       "        (25): ReLU(inplace=True)\n",
       "        (26): Conv2d(512, 512, kernel_size=(3, 3), stride=(1, 1), padding=(1, 1))\n",
       "        (27): ReLU(inplace=True)\n",
       "        (28): Conv2d(512, 512, kernel_size=(3, 3), stride=(1, 1), padding=(1, 1))\n",
       "        (29): ReLU(inplace=True)\n",
       "      )\n",
       "    )\n",
       "    (lin0): NetLinLayer(\n",
       "      (model): Sequential(\n",
       "        (0): Dropout(p=0.5, inplace=False)\n",
       "        (1): Conv2d(64, 1, kernel_size=(1, 1), stride=(1, 1), bias=False)\n",
       "      )\n",
       "    )\n",
       "    (lin1): NetLinLayer(\n",
       "      (model): Sequential(\n",
       "        (0): Dropout(p=0.5, inplace=False)\n",
       "        (1): Conv2d(128, 1, kernel_size=(1, 1), stride=(1, 1), bias=False)\n",
       "      )\n",
       "    )\n",
       "    (lin2): NetLinLayer(\n",
       "      (model): Sequential(\n",
       "        (0): Dropout(p=0.5, inplace=False)\n",
       "        (1): Conv2d(256, 1, kernel_size=(1, 1), stride=(1, 1), bias=False)\n",
       "      )\n",
       "    )\n",
       "    (lin3): NetLinLayer(\n",
       "      (model): Sequential(\n",
       "        (0): Dropout(p=0.5, inplace=False)\n",
       "        (1): Conv2d(512, 1, kernel_size=(1, 1), stride=(1, 1), bias=False)\n",
       "      )\n",
       "    )\n",
       "    (lin4): NetLinLayer(\n",
       "      (model): Sequential(\n",
       "        (0): Dropout(p=0.5, inplace=False)\n",
       "        (1): Conv2d(512, 1, kernel_size=(1, 1), stride=(1, 1), bias=False)\n",
       "      )\n",
       "    )\n",
       "  )\n",
       ")"
      ]
     },
     "execution_count": 19,
     "metadata": {},
     "output_type": "execute_result"
    }
   ],
   "source": [
    "# LIDC\n",
    "DDPM_CHECKPOINT = '/data/home/firas/Desktop/work/other_groups/medicaldiffusion/checkpoints/ddpm/LIDC/model-78.pt'\n",
    "VQGAN_CHECKPOINT = '/data/home/firas/Desktop/work/other_groups/medicaldiffusion/checkpoints/vq_gan/LIDC/lightning_logs/version_0/checkpoints/epoch\\=100-step\\=102000-train/recon_loss\\=0.33.ckpt'\n",
    "\n",
    "with initialize(config_path=\"../config/\"):\n",
    "\t\tcfg=compose(config_name=\"base_cfg.yaml\", overrides=[\n",
    "\t\t\t\"model=ddpm\",\n",
    "\t\t\t \"dataset=lidc\",\n",
    "\t\t\t f\"model.vqgan_ckpt={VQGAN_CHECKPOINT}\",\n",
    "\t\t\t \"model.diffusion_img_size=16\",\n",
    "\t\t\t \"model.diffusion_depth_size=16\",\n",
    "\t\t\t \"model.diffusion_num_channels=8\",\n",
    "\t\t\t \"model.dim_mults=[1,2,4,8]\",\n",
    "\t\t\t \"model.batch_size=40 \",\n",
    "\t\t\t \"model.gpus=0 \",\n",
    "\t\t\t])\n",
    "\n",
    "#vqgan = VQGAN.load_from_checkpoint('/data/home/firas/Desktop/work/other_groups/vq_gan_3d/checkpoints_generation/knee_mri_gen/lightning_logs/version_0/checkpoints/epoch=228-step=207000-train/recon_loss=0.91.ckpt', map_location=device)\n",
    "vqgan = VQGAN.load_from_checkpoint(VQGAN_CHECKPOINT)\n",
    "vqgan = vqgan.to(device)\n",
    "vqgan.eval()"
   ]
  },
  {
   "cell_type": "code",
   "execution_count": 20,
   "metadata": {},
   "outputs": [],
   "source": [
    "#task = 'acl'\n",
    "#plane = 'sagittal'\n",
    "#root_dir = '/data/home/firas/Desktop/work/MR_Knie/Data/MRNet/MRNet-v1.0/'\n",
    "#val_dataset = MRNetDataset(root_dir=root_dir, task=task, plane=plane, split='valid')\n",
    "#sample = val_dataset[0]\n",
    "\n",
    "val_dataset = BRATSDataset(root_dir='/data/BraTS/BraTS 2020', train=False, imgtype='flair')\n",
    "sample = val_dataset[3]"
   ]
  },
  {
   "cell_type": "code",
   "execution_count": 21,
   "metadata": {},
   "outputs": [
    {
     "name": "stderr",
     "output_type": "stream",
     "text": [
      "/tmp/ipykernel_3784334/3842533679.py:1: UserWarning: To copy construct from a tensor, it is recommended to use sourceTensor.clone().detach() or sourceTensor.clone().detach().requires_grad_(True), rather than torch.tensor(sourceTensor).\n",
      "  input_ = torch.tensor(sample['data'][None]).to(device)\n"
     ]
    }
   ],
   "source": [
    "input_ = torch.tensor(sample['data'][None]).to(device)"
   ]
  },
  {
   "cell_type": "code",
   "execution_count": 22,
   "metadata": {},
   "outputs": [],
   "source": [
    "with torch.no_grad():\n",
    "\toutput_ = vqgan(input_)"
   ]
  },
  {
   "cell_type": "code",
   "execution_count": 23,
   "metadata": {},
   "outputs": [
    {
     "data": {
      "image/png": "[encoded data removed]",
      "text/plain": [
       "<Figure size 432x288 with 1 Axes>"
      ]
     },
     "metadata": {
      "needs_background": "light"
     },
     "output_type": "display_data"
    },
    {
     "data": {
      "image/png": "[encoded data removed]",
      "text/plain": [
       "<Figure size 432x288 with 1 Axes>"
      ]
     },
     "metadata": {
      "needs_background": "light"
     },
     "output_type": "display_data"
    }
   ],
   "source": [
    "IDX = 33\n",
    "plt.imshow(output_[1][0][0][IDX].cpu(), cmap='gray')\n",
    "plt.show()\n",
    "plt.imshow(input_[0][0][IDX].cpu(), cmap='gray')\n",
    "plt.show()"
   ]
  },
  {
   "cell_type": "code",
   "execution_count": 18,
   "metadata": {},
   "outputs": [
    {
     "data": {
      "image/png": "[encoded data removed]",
      "text/plain": [
       "<Figure size 432x288 with 1 Axes>"
      ]
     },
     "metadata": {
      "needs_background": "light"
     },
     "output_type": "display_data"
    },
    {
     "data": {
      "image/png": "[encoded data removed]",
      "text/plain": [
       "<Figure size 432x288 with 1 Axes>"
      ]
     },
     "metadata": {
      "needs_background": "light"
     },
     "output_type": "display_data"
    }
   ],
   "source": [
    "IDX = 33\n",
    "plt.imshow(output_[1][0][0][IDX].cpu(), cmap='gray')\n",
    "plt.show()\n",
    "plt.imshow(input_[0][0][IDX].cpu(), cmap='gray')\n",
    "plt.show()"
   ]
  },
  {
   "cell_type": "code",
   "execution_count": 23,
   "metadata": {},
   "outputs": [],
   "source": [
    "sitk.WriteImage(sitk.GetImageFromArray(output_[1][0][0].cpu()), '/data/home/firas/Desktop/work/other_groups/vq_gan_3d/evaluation/output.nii')\n",
    "sitk.WriteImage(sitk.GetImageFromArray(input_[0][0].cpu()), '/data/home/firas/Desktop/work/other_groups/vq_gan_3d/evaluation/input.nii')"
   ]
  },
  {
   "cell_type": "code",
   "execution_count": null,
   "metadata": {},
   "outputs": [],
   "source": []
  }
 ],
 "metadata": {
  "kernelspec": {
   "display_name": "Python 3.8.13 ('medicaldiffusion')",
   "language": "python",
   "name": "python3"
  },
  "language_info": {
   "codemirror_mode": {
    "name": "ipython",
    "version": 3
   },
   "file_extension": ".py",
   "mimetype": "text/x-python",
   "name": "python",
   "nbconvert_exporter": "python",
   "pygments_lexer": "ipython3",
   "version": "3.8.13"
  },
  "orig_nbformat": 4,
  "vscode": {
   "interpreter": {
    "hash": "489df2b2e73de1ddceac97fbee82a53bd2a027d2efa7299f0a23dfd27bb8968f"
   }
  }
 },
 "nbformat": 4,
 "nbformat_minor": 2
}
